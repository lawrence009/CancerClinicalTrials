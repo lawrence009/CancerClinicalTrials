{
 "cells": [
  {
   "cell_type": "markdown",
   "metadata": {},
   "source": [
    "# 2. Data Wrangling"
   ]
  },
  {
   "cell_type": "markdown",
   "metadata": {},
   "source": [
    "https://www.kaggle.com/auriml/eligibilityforcancerclinicaltrials\n",
    "\n",
    "A total of 6,186,572 labeled clinical statements were extracted from 49,201 interventional CT protocols on cancer (the URL for downloading this dataset is freely available at https://clinicaltrials.gov/ct2/results?term=neoplasmtype=Intrshowdow). Each CT downloaded is an XML file that follows a structure of fields defined by an XML schema of clinical trials [16]. The relevant data for this project are derived from the intervention, condition, and eligibility fields written in unstructured free-text language. The information in the eligibility criteria—both exclusion and inclusion criteria—are sets of phrases and/or sentences displayed in a free format, such as paragraphs, bulleted lists, enumeration lists, etc. None of these fields use common standards, nor do they enforce the use of standardized terms from medical dictionaries and ontologies. Moreover, the language had the problems of both polysemy and synonymy.\n",
    "The original data were exploited by merging eligibility criteria together with the study condition and intervention, and subsequently transforming them into lists of short labeled clinical statements that consisted of two extracted features (see example in Figure 2), the label (Eligible or Not Eligible), and the processed text that included the original eligibility criterion merged with the study interventions and the study conditions. See more details: Bustos, A.; Pertusa, A. Learning Eligibility in Cancer Clinical Trials Using Deep Neural Networks. Appl. Sci. 2018, 8, 1206. www.mdpi.com/2076-3417/8/7/1206 www.mdpi.com/2076-3417/8/7/1206"
   ]
  },
  {
   "cell_type": "markdown",
   "metadata": {},
   "source": [
    "## About the data set\n",
    "\n",
    "Labeled eligibility criteria in interventional clinical trials on cancer as Eligible (label0) or Not Eligible (labeled1). Eligibility criteria are splitted into short sequences of plain words (and bigrams) separated by a whitespace and are augmented with information on study intervention and cancer type (source of clinical trial protocols: clinicaltrials.gov)"
   ]
  },
  {
   "cell_type": "code",
   "execution_count": 1,
   "metadata": {},
   "outputs": [],
   "source": [
    "import zipfile\n",
    "import pandas as pd\n",
    "\n",
    "url = 'https://www.kaggle.com/auriml/eligibilityforcancerclinicaltrials/download'\n",
    "\n",
    "# to-do: to make the code cleaner open a a HTTP stream and stuff it in ZipFile\n",
    "with zipfile.ZipFile('data/raw/917_1673_bundle_archive.zip', 'r') as myzip:\n",
    "    myzip.extractall('data/raw')"
   ]
  },
  {
   "cell_type": "code",
   "execution_count": 2,
   "metadata": {},
   "outputs": [],
   "source": [
    "df = pd.read_csv('data/raw/labeledEligibilitySample1000000.csv', sep='\\t', header=None, names=['is_eligible','intervention'])"
   ]
  },
  {
   "cell_type": "code",
   "execution_count": 3,
   "metadata": {},
   "outputs": [
    {
     "data": {
      "text/plain": [
       "(1000000, 2)"
      ]
     },
     "execution_count": 3,
     "metadata": {},
     "output_type": "execute_result"
    }
   ],
   "source": [
    "df.shape"
   ]
  },
  {
   "cell_type": "code",
   "execution_count": 4,
   "metadata": {},
   "outputs": [
    {
     "data": {
      "text/html": [
       "<div>\n",
       "<style scoped>\n",
       "    .dataframe tbody tr th:only-of-type {\n",
       "        vertical-align: middle;\n",
       "    }\n",
       "\n",
       "    .dataframe tbody tr th {\n",
       "        vertical-align: top;\n",
       "    }\n",
       "\n",
       "    .dataframe thead th {\n",
       "        text-align: right;\n",
       "    }\n",
       "</style>\n",
       "<table border=\"1\" class=\"dataframe\">\n",
       "  <thead>\n",
       "    <tr style=\"text-align: right;\">\n",
       "      <th></th>\n",
       "      <th>is_eligible</th>\n",
       "      <th>intervention</th>\n",
       "    </tr>\n",
       "  </thead>\n",
       "  <tbody>\n",
       "    <tr>\n",
       "      <th>count</th>\n",
       "      <td>1000000</td>\n",
       "      <td>1000000</td>\n",
       "    </tr>\n",
       "    <tr>\n",
       "      <th>unique</th>\n",
       "      <td>2</td>\n",
       "      <td>957870</td>\n",
       "    </tr>\n",
       "    <tr>\n",
       "      <th>top</th>\n",
       "      <td>__label__0</td>\n",
       "      <td>study interventions are Cyclophosphamide . lym...</td>\n",
       "    </tr>\n",
       "    <tr>\n",
       "      <th>freq</th>\n",
       "      <td>500000</td>\n",
       "      <td>49</td>\n",
       "    </tr>\n",
       "  </tbody>\n",
       "</table>\n",
       "</div>"
      ],
      "text/plain": [
       "       is_eligible                                       intervention\n",
       "count      1000000                                            1000000\n",
       "unique           2                                             957870\n",
       "top     __label__0  study interventions are Cyclophosphamide . lym...\n",
       "freq        500000                                                 49"
      ]
     },
     "execution_count": 4,
     "metadata": {},
     "output_type": "execute_result"
    }
   ],
   "source": [
    "df.describe()"
   ]
  },
  {
   "cell_type": "code",
   "execution_count": 5,
   "metadata": {},
   "outputs": [
    {
     "data": {
      "text/plain": [
       "0         study interventions are recombinant CD40-ligan...\n",
       "1         study interventions are Liposomal doxorubicin ...\n",
       "2         study interventions are BI 836909 . multiple m...\n",
       "3         study interventions are Immunoglobulins . recu...\n",
       "4         study interventions are Paclitaxel . stage ova...\n",
       "                                ...                        \n",
       "999995    study interventions are Pazopanib . carcinoma ...\n",
       "999996    study interventions are Dexamethasone 21-phosp...\n",
       "999997    study interventions are Camptothecin . rectal ...\n",
       "999998    study interventions are Cyclophosphamide . sta...\n",
       "999999    study interventions are Cyclophosphamide . lym...\n",
       "Name: intervention, Length: 1000000, dtype: object"
      ]
     },
     "execution_count": 5,
     "metadata": {},
     "output_type": "execute_result"
    }
   ],
   "source": [
    "df.intervention"
   ]
  },
  {
   "cell_type": "code",
   "execution_count": 6,
   "metadata": {},
   "outputs": [],
   "source": [
    "df.is_eligible = df.is_eligible.str.endswith('0')"
   ]
  },
  {
   "cell_type": "code",
   "execution_count": 7,
   "metadata": {},
   "outputs": [
    {
     "data": {
      "text/html": [
       "<div>\n",
       "<style scoped>\n",
       "    .dataframe tbody tr th:only-of-type {\n",
       "        vertical-align: middle;\n",
       "    }\n",
       "\n",
       "    .dataframe tbody tr th {\n",
       "        vertical-align: top;\n",
       "    }\n",
       "\n",
       "    .dataframe thead th {\n",
       "        text-align: right;\n",
       "    }\n",
       "</style>\n",
       "<table border=\"1\" class=\"dataframe\">\n",
       "  <thead>\n",
       "    <tr style=\"text-align: right;\">\n",
       "      <th></th>\n",
       "      <th>is_eligible</th>\n",
       "      <th>intervention</th>\n",
       "    </tr>\n",
       "  </thead>\n",
       "  <tbody>\n",
       "    <tr>\n",
       "      <th>0</th>\n",
       "      <td>True</td>\n",
       "      <td>study interventions are recombinant CD40-ligan...</td>\n",
       "    </tr>\n",
       "    <tr>\n",
       "      <th>1</th>\n",
       "      <td>True</td>\n",
       "      <td>study interventions are Liposomal doxorubicin ...</td>\n",
       "    </tr>\n",
       "    <tr>\n",
       "      <th>2</th>\n",
       "      <td>True</td>\n",
       "      <td>study interventions are BI 836909 . multiple m...</td>\n",
       "    </tr>\n",
       "    <tr>\n",
       "      <th>3</th>\n",
       "      <td>True</td>\n",
       "      <td>study interventions are Immunoglobulins . recu...</td>\n",
       "    </tr>\n",
       "    <tr>\n",
       "      <th>4</th>\n",
       "      <td>True</td>\n",
       "      <td>study interventions are Paclitaxel . stage ova...</td>\n",
       "    </tr>\n",
       "    <tr>\n",
       "      <th>...</th>\n",
       "      <td>...</td>\n",
       "      <td>...</td>\n",
       "    </tr>\n",
       "    <tr>\n",
       "      <th>999995</th>\n",
       "      <td>False</td>\n",
       "      <td>study interventions are Pazopanib . carcinoma ...</td>\n",
       "    </tr>\n",
       "    <tr>\n",
       "      <th>999996</th>\n",
       "      <td>False</td>\n",
       "      <td>study interventions are Dexamethasone 21-phosp...</td>\n",
       "    </tr>\n",
       "    <tr>\n",
       "      <th>999997</th>\n",
       "      <td>False</td>\n",
       "      <td>study interventions are Camptothecin . rectal ...</td>\n",
       "    </tr>\n",
       "    <tr>\n",
       "      <th>999998</th>\n",
       "      <td>False</td>\n",
       "      <td>study interventions are Cyclophosphamide . sta...</td>\n",
       "    </tr>\n",
       "    <tr>\n",
       "      <th>999999</th>\n",
       "      <td>False</td>\n",
       "      <td>study interventions are Cyclophosphamide . lym...</td>\n",
       "    </tr>\n",
       "  </tbody>\n",
       "</table>\n",
       "<p>1000000 rows × 2 columns</p>\n",
       "</div>"
      ],
      "text/plain": [
       "        is_eligible                                       intervention\n",
       "0              True  study interventions are recombinant CD40-ligan...\n",
       "1              True  study interventions are Liposomal doxorubicin ...\n",
       "2              True  study interventions are BI 836909 . multiple m...\n",
       "3              True  study interventions are Immunoglobulins . recu...\n",
       "4              True  study interventions are Paclitaxel . stage ova...\n",
       "...             ...                                                ...\n",
       "999995        False  study interventions are Pazopanib . carcinoma ...\n",
       "999996        False  study interventions are Dexamethasone 21-phosp...\n",
       "999997        False  study interventions are Camptothecin . rectal ...\n",
       "999998        False  study interventions are Cyclophosphamide . sta...\n",
       "999999        False  study interventions are Cyclophosphamide . lym...\n",
       "\n",
       "[1000000 rows x 2 columns]"
      ]
     },
     "execution_count": 7,
     "metadata": {},
     "output_type": "execute_result"
    }
   ],
   "source": [
    "df"
   ]
  },
  {
   "cell_type": "code",
   "execution_count": 8,
   "metadata": {},
   "outputs": [
    {
     "data": {
      "text/plain": [
       "1000000"
      ]
     },
     "execution_count": 8,
     "metadata": {},
     "output_type": "execute_result"
    }
   ],
   "source": [
    "df['intervention'].str.startswith('study interventions are ').sum()"
   ]
  },
  {
   "cell_type": "markdown",
   "metadata": {},
   "source": [
    "All interventions strarts with `sutdy interventions are ` so we remove them"
   ]
  },
  {
   "cell_type": "code",
   "execution_count": 9,
   "metadata": {},
   "outputs": [],
   "source": [
    "i = len('study interventions are ')\n",
    "df.intervention = df['intervention'].str.slice(start=i)"
   ]
  },
  {
   "cell_type": "code",
   "execution_count": 10,
   "metadata": {},
   "outputs": [
    {
     "data": {
      "text/html": [
       "<div>\n",
       "<style scoped>\n",
       "    .dataframe tbody tr th:only-of-type {\n",
       "        vertical-align: middle;\n",
       "    }\n",
       "\n",
       "    .dataframe tbody tr th {\n",
       "        vertical-align: top;\n",
       "    }\n",
       "\n",
       "    .dataframe thead th {\n",
       "        text-align: right;\n",
       "    }\n",
       "</style>\n",
       "<table border=\"1\" class=\"dataframe\">\n",
       "  <thead>\n",
       "    <tr style=\"text-align: right;\">\n",
       "      <th></th>\n",
       "      <th>is_eligible</th>\n",
       "      <th>intervention</th>\n",
       "    </tr>\n",
       "  </thead>\n",
       "  <tbody>\n",
       "    <tr>\n",
       "      <th>0</th>\n",
       "      <td>True</td>\n",
       "      <td>recombinant CD40-ligand . melanoma skin diagno...</td>\n",
       "    </tr>\n",
       "    <tr>\n",
       "      <th>1</th>\n",
       "      <td>True</td>\n",
       "      <td>Liposomal doxorubicin . colorectal cancer diag...</td>\n",
       "    </tr>\n",
       "    <tr>\n",
       "      <th>2</th>\n",
       "      <td>True</td>\n",
       "      <td>BI 836909 . multiple myeloma diagnosis and ind...</td>\n",
       "    </tr>\n",
       "    <tr>\n",
       "      <th>3</th>\n",
       "      <td>True</td>\n",
       "      <td>Immunoglobulins . recurrent fallopian tube car...</td>\n",
       "    </tr>\n",
       "    <tr>\n",
       "      <th>4</th>\n",
       "      <td>True</td>\n",
       "      <td>Paclitaxel . stage ovarian cancer diagnosis an...</td>\n",
       "    </tr>\n",
       "    <tr>\n",
       "      <th>...</th>\n",
       "      <td>...</td>\n",
       "      <td>...</td>\n",
       "    </tr>\n",
       "    <tr>\n",
       "      <th>999995</th>\n",
       "      <td>False</td>\n",
       "      <td>Pazopanib . carcinoma renal cell diagnosis and...</td>\n",
       "    </tr>\n",
       "    <tr>\n",
       "      <th>999996</th>\n",
       "      <td>False</td>\n",
       "      <td>Dexamethasone 21-phosphate . uveal melanoma di...</td>\n",
       "    </tr>\n",
       "    <tr>\n",
       "      <th>999997</th>\n",
       "      <td>False</td>\n",
       "      <td>Camptothecin . rectal cancer diagnosis and cre...</td>\n",
       "    </tr>\n",
       "    <tr>\n",
       "      <th>999998</th>\n",
       "      <td>False</td>\n",
       "      <td>Cyclophosphamide . stage iii non hodgkin lymph...</td>\n",
       "    </tr>\n",
       "    <tr>\n",
       "      <th>999999</th>\n",
       "      <td>False</td>\n",
       "      <td>Cyclophosphamide . lymphoma diagnosis and pati...</td>\n",
       "    </tr>\n",
       "  </tbody>\n",
       "</table>\n",
       "<p>1000000 rows × 2 columns</p>\n",
       "</div>"
      ],
      "text/plain": [
       "        is_eligible                                       intervention\n",
       "0              True  recombinant CD40-ligand . melanoma skin diagno...\n",
       "1              True  Liposomal doxorubicin . colorectal cancer diag...\n",
       "2              True  BI 836909 . multiple myeloma diagnosis and ind...\n",
       "3              True  Immunoglobulins . recurrent fallopian tube car...\n",
       "4              True  Paclitaxel . stage ovarian cancer diagnosis an...\n",
       "...             ...                                                ...\n",
       "999995        False  Pazopanib . carcinoma renal cell diagnosis and...\n",
       "999996        False  Dexamethasone 21-phosphate . uveal melanoma di...\n",
       "999997        False  Camptothecin . rectal cancer diagnosis and cre...\n",
       "999998        False  Cyclophosphamide . stage iii non hodgkin lymph...\n",
       "999999        False  Cyclophosphamide . lymphoma diagnosis and pati...\n",
       "\n",
       "[1000000 rows x 2 columns]"
      ]
     },
     "execution_count": 10,
     "metadata": {},
     "output_type": "execute_result"
    }
   ],
   "source": [
    "df"
   ]
  },
  {
   "cell_type": "code",
   "execution_count": 11,
   "metadata": {},
   "outputs": [
    {
     "data": {
      "text/html": [
       "<div>\n",
       "<style scoped>\n",
       "    .dataframe tbody tr th:only-of-type {\n",
       "        vertical-align: middle;\n",
       "    }\n",
       "\n",
       "    .dataframe tbody tr th {\n",
       "        vertical-align: top;\n",
       "    }\n",
       "\n",
       "    .dataframe thead th {\n",
       "        text-align: right;\n",
       "    }\n",
       "</style>\n",
       "<table border=\"1\" class=\"dataframe\">\n",
       "  <thead>\n",
       "    <tr style=\"text-align: right;\">\n",
       "      <th></th>\n",
       "      <th>intervention</th>\n",
       "      <th>diagnosis</th>\n",
       "    </tr>\n",
       "  </thead>\n",
       "  <tbody>\n",
       "    <tr>\n",
       "      <th>0</th>\n",
       "      <td>recombinant CD40-ligand</td>\n",
       "      <td>melanoma skin diagnosis and no active cns meta...</td>\n",
       "    </tr>\n",
       "    <tr>\n",
       "      <th>1</th>\n",
       "      <td>Liposomal doxorubicin</td>\n",
       "      <td>colorectal cancer diagnosis and cardiovascular</td>\n",
       "    </tr>\n",
       "    <tr>\n",
       "      <th>2</th>\n",
       "      <td>BI 836909</td>\n",
       "      <td>multiple myeloma diagnosis and indwelling cent...</td>\n",
       "    </tr>\n",
       "    <tr>\n",
       "      <th>3</th>\n",
       "      <td>Immunoglobulins</td>\n",
       "      <td>recurrent fallopian tube carcinoma diagnosis a...</td>\n",
       "    </tr>\n",
       "    <tr>\n",
       "      <th>4</th>\n",
       "      <td>Paclitaxel</td>\n",
       "      <td>stage ovarian cancer diagnosis and patients mu...</td>\n",
       "    </tr>\n",
       "    <tr>\n",
       "      <th>...</th>\n",
       "      <td>...</td>\n",
       "      <td>...</td>\n",
       "    </tr>\n",
       "    <tr>\n",
       "      <th>999995</th>\n",
       "      <td>Pazopanib</td>\n",
       "      <td>carcinoma renal cell diagnosis and pregnant or...</td>\n",
       "    </tr>\n",
       "    <tr>\n",
       "      <th>999996</th>\n",
       "      <td>Dexamethasone 21-phosphate</td>\n",
       "      <td>uveal melanoma diagnosis and presence of any o...</td>\n",
       "    </tr>\n",
       "    <tr>\n",
       "      <th>999997</th>\n",
       "      <td>Camptothecin</td>\n",
       "      <td>rectal cancer diagnosis and creatinine clearan...</td>\n",
       "    </tr>\n",
       "    <tr>\n",
       "      <th>999998</th>\n",
       "      <td>Cyclophosphamide</td>\n",
       "      <td>stage iii non hodgkin lymphoma diagnosis and c...</td>\n",
       "    </tr>\n",
       "    <tr>\n",
       "      <th>999999</th>\n",
       "      <td>Cyclophosphamide</td>\n",
       "      <td>lymphoma diagnosis and patients with active he...</td>\n",
       "    </tr>\n",
       "  </tbody>\n",
       "</table>\n",
       "<p>1000000 rows × 2 columns</p>\n",
       "</div>"
      ],
      "text/plain": [
       "                      intervention  \\\n",
       "0          recombinant CD40-ligand   \n",
       "1            Liposomal doxorubicin   \n",
       "2                        BI 836909   \n",
       "3                  Immunoglobulins   \n",
       "4                       Paclitaxel   \n",
       "...                            ...   \n",
       "999995                   Pazopanib   \n",
       "999996  Dexamethasone 21-phosphate   \n",
       "999997                Camptothecin   \n",
       "999998            Cyclophosphamide   \n",
       "999999            Cyclophosphamide   \n",
       "\n",
       "                                                diagnosis  \n",
       "0       melanoma skin diagnosis and no active cns meta...  \n",
       "1          colorectal cancer diagnosis and cardiovascular  \n",
       "2       multiple myeloma diagnosis and indwelling cent...  \n",
       "3       recurrent fallopian tube carcinoma diagnosis a...  \n",
       "4       stage ovarian cancer diagnosis and patients mu...  \n",
       "...                                                   ...  \n",
       "999995  carcinoma renal cell diagnosis and pregnant or...  \n",
       "999996  uveal melanoma diagnosis and presence of any o...  \n",
       "999997  rectal cancer diagnosis and creatinine clearan...  \n",
       "999998  stage iii non hodgkin lymphoma diagnosis and c...  \n",
       "999999  lymphoma diagnosis and patients with active he...  \n",
       "\n",
       "[1000000 rows x 2 columns]"
      ]
     },
     "execution_count": 11,
     "metadata": {},
     "output_type": "execute_result"
    }
   ],
   "source": [
    "itv = df.intervention.str.split(' \\\\. ', expand=True)\n",
    "itv.columns = ['intervention', 'diagnosis']\n",
    "itv"
   ]
  },
  {
   "cell_type": "code",
   "execution_count": 12,
   "metadata": {},
   "outputs": [],
   "source": [
    "df = pd.concat([df.iloc[:,0], itv], axis=1)"
   ]
  },
  {
   "cell_type": "code",
   "execution_count": 13,
   "metadata": {},
   "outputs": [
    {
     "data": {
      "text/plain": [
       "Antibodies, Monoclonal           34457\n",
       "Antibodies                       22897\n",
       "Paclitaxel                       22723\n",
       "Albumin-Bound Paclitaxel         21169\n",
       "Bevacizumab                      20445\n",
       "                                 ...  \n",
       "Helical Tomotherapy treatment        1\n",
       "Multimodal Intervention              1\n",
       "Webinar                              1\n",
       "Muscle Tissue Biopsy Sample          1\n",
       "No further treatment                 1\n",
       "Name: intervention, Length: 15262, dtype: int64"
      ]
     },
     "execution_count": 13,
     "metadata": {},
     "output_type": "execute_result"
    }
   ],
   "source": [
    "df.intervention.value_counts()"
   ]
  },
  {
   "cell_type": "code",
   "execution_count": 14,
   "metadata": {},
   "outputs": [
    {
     "data": {
      "text/html": [
       "<div>\n",
       "<style scoped>\n",
       "    .dataframe tbody tr th:only-of-type {\n",
       "        vertical-align: middle;\n",
       "    }\n",
       "\n",
       "    .dataframe tbody tr th {\n",
       "        vertical-align: top;\n",
       "    }\n",
       "\n",
       "    .dataframe thead th {\n",
       "        text-align: right;\n",
       "    }\n",
       "</style>\n",
       "<table border=\"1\" class=\"dataframe\">\n",
       "  <thead>\n",
       "    <tr style=\"text-align: right;\">\n",
       "      <th></th>\n",
       "      <th>intervention</th>\n",
       "      <th>diagnosis</th>\n",
       "    </tr>\n",
       "    <tr>\n",
       "      <th>is_eligible</th>\n",
       "      <th></th>\n",
       "      <th></th>\n",
       "    </tr>\n",
       "  </thead>\n",
       "  <tbody>\n",
       "    <tr>\n",
       "      <th>False</th>\n",
       "      <td>18321</td>\n",
       "      <td>18321</td>\n",
       "    </tr>\n",
       "    <tr>\n",
       "      <th>True</th>\n",
       "      <td>16136</td>\n",
       "      <td>16136</td>\n",
       "    </tr>\n",
       "  </tbody>\n",
       "</table>\n",
       "</div>"
      ],
      "text/plain": [
       "             intervention  diagnosis\n",
       "is_eligible                         \n",
       "False               18321      18321\n",
       "True                16136      16136"
      ]
     },
     "execution_count": 14,
     "metadata": {},
     "output_type": "execute_result"
    }
   ],
   "source": [
    "df[df.intervention.str.startswith('Antibodies, Monoclonal')].groupby('is_eligible').count()"
   ]
  },
  {
   "cell_type": "code",
   "execution_count": 15,
   "metadata": {},
   "outputs": [
    {
     "data": {
      "text/plain": [
       "Index(['No further treatment', 'Muscle Tissue Biopsy Sample', 'Webinar',\n",
       "       'Multimodal Intervention', 'Helical Tomotherapy treatment',\n",
       "       'Sham tibial nerve stimulation', 'Auto Plus', 'Routine Data collection',\n",
       "       'bioelectrical impedance analysis', 'Air colonoscopy',\n",
       "       'Agreement between oral and cervical HPV infection',\n",
       "       'Educational and counseling in group', 'Serum proteomics',\n",
       "       'The interactive e-Assist tool', 'preserving the left colic artery',\n",
       "       'Stamm Approach', 'MRI scanner with sequence',\n",
       "       'Goal directed fluid management based on continuous monitoring of stroke volume',\n",
       "       'MR guided High Intensity focused ultrasound'],\n",
       "      dtype='object')"
      ]
     },
     "execution_count": 15,
     "metadata": {},
     "output_type": "execute_result"
    }
   ],
   "source": [
    "df['intervention'].value_counts().index[-1:-20:-1]"
   ]
  },
  {
   "cell_type": "code",
   "execution_count": 16,
   "metadata": {},
   "outputs": [
    {
     "data": {
      "text/plain": [
       "Index(['Antibodies, Monoclonal', 'Antibodies', 'Paclitaxel',\n",
       "       'Albumin-Bound Paclitaxel', 'Bevacizumab', 'Cyclophosphamide',\n",
       "       'Immunoglobulins', 'Carboplatin', 'Cisplatin', 'Fludarabine',\n",
       "       'Fludarabine phosphate', 'Gemcitabine', 'Sirolimus', 'Doxorubicin',\n",
       "       'Everolimus', 'Liposomal doxorubicin', 'Docetaxel', 'Vaccines',\n",
       "       'Mycophenolate mofetil', 'Rituximab', 'Mycophenolic Acid',\n",
       "       'Fluorouracil', 'Vidarabine', 'Oxaliplatin', 'Capecitabine',\n",
       "       'Irinotecan', 'Etoposide', 'Thalidomide', 'Erlotinib Hydrochloride',\n",
       "       'Cyclosporins', 'Cetuximab', 'Cyclosporine', 'Etoposide phosphate',\n",
       "       'Camptothecin', 'Pembrolizumab', 'Bortezomib', 'Tacrolimus',\n",
       "       'Dexamethasone', 'Sorafenib', 'Melphalan', 'Lenalidomide',\n",
       "       'Niacinamide', 'laboratory biomarker analysis', 'Temozolomide',\n",
       "       'Dexamethasone 21-phosphate', 'BB 1101', 'Dexamethasone acetate',\n",
       "       'Endothelial Growth Factors', 'Trastuzumab',\n",
       "       'Laboratory Biomarker Analysis'],\n",
       "      dtype='object')"
      ]
     },
     "execution_count": 16,
     "metadata": {},
     "output_type": "execute_result"
    }
   ],
   "source": [
    "df['intervention'].value_counts().index[:50]"
   ]
  },
  {
   "cell_type": "code",
   "execution_count": 17,
   "metadata": {},
   "outputs": [
    {
     "data": {
      "text/plain": [
       "'study of high risk factors'"
      ]
     },
     "execution_count": 17,
     "metadata": {},
     "output_type": "execute_result"
    }
   ],
   "source": [
    "df.loc[10, 'intervention']"
   ]
  },
  {
   "cell_type": "code",
   "execution_count": 18,
   "metadata": {},
   "outputs": [
    {
     "data": {
      "text/plain": [
       "'precancerous condition diagnosis and able to understand the procedures and the potential risks involved as determined by clinic staff'"
      ]
     },
     "execution_count": 18,
     "metadata": {},
     "output_type": "execute_result"
    }
   ],
   "source": [
    "df.loc[10, 'diagnosis']"
   ]
  },
  {
   "cell_type": "code",
   "execution_count": 19,
   "metadata": {},
   "outputs": [
    {
     "data": {
      "text/html": [
       "<div>\n",
       "<style scoped>\n",
       "    .dataframe tbody tr th:only-of-type {\n",
       "        vertical-align: middle;\n",
       "    }\n",
       "\n",
       "    .dataframe tbody tr th {\n",
       "        vertical-align: top;\n",
       "    }\n",
       "\n",
       "    .dataframe thead th {\n",
       "        text-align: right;\n",
       "    }\n",
       "</style>\n",
       "<table border=\"1\" class=\"dataframe\">\n",
       "  <thead>\n",
       "    <tr style=\"text-align: right;\">\n",
       "      <th></th>\n",
       "      <th>is_eligible</th>\n",
       "      <th>intervention</th>\n",
       "      <th>diagnosis</th>\n",
       "    </tr>\n",
       "  </thead>\n",
       "  <tbody>\n",
       "    <tr>\n",
       "      <th>10</th>\n",
       "      <td>True</td>\n",
       "      <td>study of high risk factors</td>\n",
       "      <td>precancerous condition diagnosis and able to u...</td>\n",
       "    </tr>\n",
       "    <tr>\n",
       "      <th>18605</th>\n",
       "      <td>True</td>\n",
       "      <td>study of high risk factors</td>\n",
       "      <td>melanoma skin diagnosis and not specified</td>\n",
       "    </tr>\n",
       "    <tr>\n",
       "      <th>43726</th>\n",
       "      <td>True</td>\n",
       "      <td>study of high risk factors</td>\n",
       "      <td>unspecified adult solid tumor protocol specifi...</td>\n",
       "    </tr>\n",
       "    <tr>\n",
       "      <th>47365</th>\n",
       "      <td>True</td>\n",
       "      <td>study of high risk factors</td>\n",
       "      <td>precancerous condition diagnosis and patient c...</td>\n",
       "    </tr>\n",
       "    <tr>\n",
       "      <th>66759</th>\n",
       "      <td>True</td>\n",
       "      <td>study of high risk factors</td>\n",
       "      <td>increased risk of breast cancer as determined ...</td>\n",
       "    </tr>\n",
       "    <tr>\n",
       "      <th>...</th>\n",
       "      <td>...</td>\n",
       "      <td>...</td>\n",
       "      <td>...</td>\n",
       "    </tr>\n",
       "    <tr>\n",
       "      <th>765935</th>\n",
       "      <td>False</td>\n",
       "      <td>study of high risk factors</td>\n",
       "      <td>lung cancer diagnosis and cardiac surgery</td>\n",
       "    </tr>\n",
       "    <tr>\n",
       "      <th>794786</th>\n",
       "      <td>False</td>\n",
       "      <td>study of high risk factors</td>\n",
       "      <td>lung cancer diagnosis and deep ray therapy</td>\n",
       "    </tr>\n",
       "    <tr>\n",
       "      <th>872408</th>\n",
       "      <td>False</td>\n",
       "      <td>study of high risk factors</td>\n",
       "      <td>metastatic cancer diagnosis and diffuse pleura...</td>\n",
       "    </tr>\n",
       "    <tr>\n",
       "      <th>937083</th>\n",
       "      <td>False</td>\n",
       "      <td>study of high risk factors</td>\n",
       "      <td>concurrent untreated malignancy except nonmela...</td>\n",
       "    </tr>\n",
       "    <tr>\n",
       "      <th>993693</th>\n",
       "      <td>False</td>\n",
       "      <td>study of high risk factors</td>\n",
       "      <td>active invasive malignancy in any site except ...</td>\n",
       "    </tr>\n",
       "  </tbody>\n",
       "</table>\n",
       "<p>92 rows × 3 columns</p>\n",
       "</div>"
      ],
      "text/plain": [
       "        is_eligible                intervention  \\\n",
       "10             True  study of high risk factors   \n",
       "18605          True  study of high risk factors   \n",
       "43726          True  study of high risk factors   \n",
       "47365          True  study of high risk factors   \n",
       "66759          True  study of high risk factors   \n",
       "...             ...                         ...   \n",
       "765935        False  study of high risk factors   \n",
       "794786        False  study of high risk factors   \n",
       "872408        False  study of high risk factors   \n",
       "937083        False  study of high risk factors   \n",
       "993693        False  study of high risk factors   \n",
       "\n",
       "                                                diagnosis  \n",
       "10      precancerous condition diagnosis and able to u...  \n",
       "18605           melanoma skin diagnosis and not specified  \n",
       "43726   unspecified adult solid tumor protocol specifi...  \n",
       "47365   precancerous condition diagnosis and patient c...  \n",
       "66759   increased risk of breast cancer as determined ...  \n",
       "...                                                   ...  \n",
       "765935          lung cancer diagnosis and cardiac surgery  \n",
       "794786         lung cancer diagnosis and deep ray therapy  \n",
       "872408  metastatic cancer diagnosis and diffuse pleura...  \n",
       "937083  concurrent untreated malignancy except nonmela...  \n",
       "993693  active invasive malignancy in any site except ...  \n",
       "\n",
       "[92 rows x 3 columns]"
      ]
     },
     "execution_count": 19,
     "metadata": {},
     "output_type": "execute_result"
    }
   ],
   "source": [
    "df[df.intervention.str.contains('high risk')]"
   ]
  }
 ],
 "metadata": {
  "kernelspec": {
   "display_name": "Python 3",
   "language": "python",
   "name": "python3"
  },
  "language_info": {
   "codemirror_mode": {
    "name": "ipython",
    "version": 3
   },
   "file_extension": ".py",
   "mimetype": "text/x-python",
   "name": "python",
   "nbconvert_exporter": "python",
   "pygments_lexer": "ipython3",
   "version": "3.8.5"
  }
 },
 "nbformat": 4,
 "nbformat_minor": 4
}
