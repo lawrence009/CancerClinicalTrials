{
 "cells": [
  {
   "cell_type": "markdown",
   "metadata": {},
   "source": [
    "# 2. Data Wrangling"
   ]
  },
  {
   "cell_type": "markdown",
   "metadata": {},
   "source": [
    "https://www.kaggle.com/auriml/eligibilityforcancerclinicaltrials\n",
    "\n",
    "A total of 6,186,572 labeled clinical statements were extracted from 49,201 interventional CT protocols on cancer (the URL for downloading this dataset is freely available at https://clinicaltrials.gov/ct2/results?term=neoplasmtype=Intrshowdow). Each CT downloaded is an XML file that follows a structure of fields defined by an XML schema of clinical trials [16]. The relevant data for this project are derived from the intervention, condition, and eligibility fields written in unstructured free-text language. The information in the eligibility criteria—both exclusion and inclusion criteria—are sets of phrases and/or sentences displayed in a free format, such as paragraphs, bulleted lists, enumeration lists, etc. None of these fields use common standards, nor do they enforce the use of standardized terms from medical dictionaries and ontologies. Moreover, the language had the problems of both polysemy and synonymy.\n",
    "The original data were exploited by merging eligibility criteria together with the study condition and intervention, and subsequently transforming them into lists of short labeled clinical statements that consisted of two extracted features (see example in Figure 2), the label (Eligible or Not Eligible), and the processed text that included the original eligibility criterion merged with the study interventions and the study conditions. See more details: Bustos, A.; Pertusa, A. Learning Eligibility in Cancer Clinical Trials Using Deep Neural Networks. Appl. Sci. 2018, 8, 1206. www.mdpi.com/2076-3417/8/7/1206 www.mdpi.com/2076-3417/8/7/1206"
   ]
  },
  {
   "cell_type": "markdown",
   "metadata": {},
   "source": [
    "## About the data set\n",
    "\n",
    "Labeled eligibility criteria in interventional clinical trials on cancer as Eligible (label0) or Not Eligible (labeled1). Eligibility criteria are splitted into short sequences of plain words (and bigrams) separated by a whitespace and are augmented with information on study intervention and cancer type (source of clinical trial protocols: clinicaltrials.gov)"
   ]
  },
  {
   "cell_type": "code",
   "execution_count": 1,
   "metadata": {},
   "outputs": [],
   "source": [
    "import zipfile\n",
    "import pandas as pd\n",
    "\n",
    "url = 'https://www.kaggle.com/auriml/eligibilityforcancerclinicaltrials/download'\n",
    "\n",
    "# to-do: to make the code cleaner open a a HTTP stream and stuff it in ZipFile\n",
    "with zipfile.ZipFile('data/raw/917_1673_bundle_archive.zip', 'r') as myzip:\n",
    "    myzip.extractall('data/raw')"
   ]
  },
  {
   "cell_type": "code",
   "execution_count": 2,
   "metadata": {},
   "outputs": [],
   "source": [
    "df = pd.read_csv('data/raw/labeledEligibilitySample1000000.csv', sep='\\t', header=None, names=['is_eligible','intervention'])"
   ]
  },
  {
   "cell_type": "code",
   "execution_count": 3,
   "metadata": {},
   "outputs": [
    {
     "data": {
      "text/plain": [
       "(1000000, 2)"
      ]
     },
     "execution_count": 3,
     "metadata": {},
     "output_type": "execute_result"
    }
   ],
   "source": [
    "df.shape"
   ]
  },
  {
   "cell_type": "code",
   "execution_count": 4,
   "metadata": {},
   "outputs": [
    {
     "data": {
      "text/html": [
       "<div>\n",
       "<style scoped>\n",
       "    .dataframe tbody tr th:only-of-type {\n",
       "        vertical-align: middle;\n",
       "    }\n",
       "\n",
       "    .dataframe tbody tr th {\n",
       "        vertical-align: top;\n",
       "    }\n",
       "\n",
       "    .dataframe thead th {\n",
       "        text-align: right;\n",
       "    }\n",
       "</style>\n",
       "<table border=\"1\" class=\"dataframe\">\n",
       "  <thead>\n",
       "    <tr style=\"text-align: right;\">\n",
       "      <th></th>\n",
       "      <th>is_eligible</th>\n",
       "      <th>intervention</th>\n",
       "    </tr>\n",
       "  </thead>\n",
       "  <tbody>\n",
       "    <tr>\n",
       "      <th>count</th>\n",
       "      <td>1000000</td>\n",
       "      <td>1000000</td>\n",
       "    </tr>\n",
       "    <tr>\n",
       "      <th>unique</th>\n",
       "      <td>2</td>\n",
       "      <td>957870</td>\n",
       "    </tr>\n",
       "    <tr>\n",
       "      <th>top</th>\n",
       "      <td>__label__0</td>\n",
       "      <td>study interventions are Cyclophosphamide . lym...</td>\n",
       "    </tr>\n",
       "    <tr>\n",
       "      <th>freq</th>\n",
       "      <td>500000</td>\n",
       "      <td>49</td>\n",
       "    </tr>\n",
       "  </tbody>\n",
       "</table>\n",
       "</div>"
      ],
      "text/plain": [
       "       is_eligible                                       intervention\n",
       "count      1000000                                            1000000\n",
       "unique           2                                             957870\n",
       "top     __label__0  study interventions are Cyclophosphamide . lym...\n",
       "freq        500000                                                 49"
      ]
     },
     "execution_count": 4,
     "metadata": {},
     "output_type": "execute_result"
    }
   ],
   "source": [
    "df.describe()"
   ]
  },
  {
   "cell_type": "code",
   "execution_count": 5,
   "metadata": {},
   "outputs": [],
   "source": [
    "df.is_eligible = df.is_eligible.str.endswith('0')"
   ]
  },
  {
   "cell_type": "code",
   "execution_count": 6,
   "metadata": {},
   "outputs": [
    {
     "data": {
      "text/html": [
       "<div>\n",
       "<style scoped>\n",
       "    .dataframe tbody tr th:only-of-type {\n",
       "        vertical-align: middle;\n",
       "    }\n",
       "\n",
       "    .dataframe tbody tr th {\n",
       "        vertical-align: top;\n",
       "    }\n",
       "\n",
       "    .dataframe thead th {\n",
       "        text-align: right;\n",
       "    }\n",
       "</style>\n",
       "<table border=\"1\" class=\"dataframe\">\n",
       "  <thead>\n",
       "    <tr style=\"text-align: right;\">\n",
       "      <th></th>\n",
       "      <th>is_eligible</th>\n",
       "      <th>intervention</th>\n",
       "    </tr>\n",
       "  </thead>\n",
       "  <tbody>\n",
       "    <tr>\n",
       "      <th>0</th>\n",
       "      <td>True</td>\n",
       "      <td>study interventions are recombinant CD40-ligan...</td>\n",
       "    </tr>\n",
       "    <tr>\n",
       "      <th>1</th>\n",
       "      <td>True</td>\n",
       "      <td>study interventions are Liposomal doxorubicin ...</td>\n",
       "    </tr>\n",
       "    <tr>\n",
       "      <th>2</th>\n",
       "      <td>True</td>\n",
       "      <td>study interventions are BI 836909 . multiple m...</td>\n",
       "    </tr>\n",
       "    <tr>\n",
       "      <th>3</th>\n",
       "      <td>True</td>\n",
       "      <td>study interventions are Immunoglobulins . recu...</td>\n",
       "    </tr>\n",
       "    <tr>\n",
       "      <th>4</th>\n",
       "      <td>True</td>\n",
       "      <td>study interventions are Paclitaxel . stage ova...</td>\n",
       "    </tr>\n",
       "    <tr>\n",
       "      <th>...</th>\n",
       "      <td>...</td>\n",
       "      <td>...</td>\n",
       "    </tr>\n",
       "    <tr>\n",
       "      <th>999995</th>\n",
       "      <td>False</td>\n",
       "      <td>study interventions are Pazopanib . carcinoma ...</td>\n",
       "    </tr>\n",
       "    <tr>\n",
       "      <th>999996</th>\n",
       "      <td>False</td>\n",
       "      <td>study interventions are Dexamethasone 21-phosp...</td>\n",
       "    </tr>\n",
       "    <tr>\n",
       "      <th>999997</th>\n",
       "      <td>False</td>\n",
       "      <td>study interventions are Camptothecin . rectal ...</td>\n",
       "    </tr>\n",
       "    <tr>\n",
       "      <th>999998</th>\n",
       "      <td>False</td>\n",
       "      <td>study interventions are Cyclophosphamide . sta...</td>\n",
       "    </tr>\n",
       "    <tr>\n",
       "      <th>999999</th>\n",
       "      <td>False</td>\n",
       "      <td>study interventions are Cyclophosphamide . lym...</td>\n",
       "    </tr>\n",
       "  </tbody>\n",
       "</table>\n",
       "<p>1000000 rows × 2 columns</p>\n",
       "</div>"
      ],
      "text/plain": [
       "        is_eligible                                       intervention\n",
       "0              True  study interventions are recombinant CD40-ligan...\n",
       "1              True  study interventions are Liposomal doxorubicin ...\n",
       "2              True  study interventions are BI 836909 . multiple m...\n",
       "3              True  study interventions are Immunoglobulins . recu...\n",
       "4              True  study interventions are Paclitaxel . stage ova...\n",
       "...             ...                                                ...\n",
       "999995        False  study interventions are Pazopanib . carcinoma ...\n",
       "999996        False  study interventions are Dexamethasone 21-phosp...\n",
       "999997        False  study interventions are Camptothecin . rectal ...\n",
       "999998        False  study interventions are Cyclophosphamide . sta...\n",
       "999999        False  study interventions are Cyclophosphamide . lym...\n",
       "\n",
       "[1000000 rows x 2 columns]"
      ]
     },
     "execution_count": 6,
     "metadata": {},
     "output_type": "execute_result"
    }
   ],
   "source": [
    "df"
   ]
  },
  {
   "cell_type": "code",
   "execution_count": 7,
   "metadata": {},
   "outputs": [
    {
     "data": {
      "text/plain": [
       "('study interventions are Antibodies, Monoclonal . recurrent verrucous carcinoma of the oral cavity diagnosis and must have undergone radiotherapy as component of prior treatment',\n",
       " 'study interventions are Dideoxynucleosides . brain and central nervous system tumors diagnosis and platelets greater_than one hundred zero µl')"
      ]
     },
     "execution_count": 7,
     "metadata": {},
     "output_type": "execute_result"
    }
   ],
   "source": [
    "df.intervention[5], df.intervention[5000]"
   ]
  },
  {
   "cell_type": "code",
   "execution_count": 8,
   "metadata": {},
   "outputs": [
    {
     "data": {
      "text/plain": [
       "1000000"
      ]
     },
     "execution_count": 8,
     "metadata": {},
     "output_type": "execute_result"
    }
   ],
   "source": [
    "df['intervention'].str.startswith('study interventions are ').sum()"
   ]
  },
  {
   "cell_type": "markdown",
   "metadata": {},
   "source": [
    "All interventions strarts with `sutdy interventions are ` so we remove it."
   ]
  },
  {
   "cell_type": "code",
   "execution_count": 9,
   "metadata": {},
   "outputs": [],
   "source": [
    "i = len('study interventions are ')\n",
    "df.intervention = df['intervention'].str.slice(start=i)"
   ]
  },
  {
   "cell_type": "code",
   "execution_count": 10,
   "metadata": {},
   "outputs": [
    {
     "data": {
      "text/html": [
       "<div>\n",
       "<style scoped>\n",
       "    .dataframe tbody tr th:only-of-type {\n",
       "        vertical-align: middle;\n",
       "    }\n",
       "\n",
       "    .dataframe tbody tr th {\n",
       "        vertical-align: top;\n",
       "    }\n",
       "\n",
       "    .dataframe thead th {\n",
       "        text-align: right;\n",
       "    }\n",
       "</style>\n",
       "<table border=\"1\" class=\"dataframe\">\n",
       "  <thead>\n",
       "    <tr style=\"text-align: right;\">\n",
       "      <th></th>\n",
       "      <th>is_eligible</th>\n",
       "      <th>intervention</th>\n",
       "    </tr>\n",
       "  </thead>\n",
       "  <tbody>\n",
       "    <tr>\n",
       "      <th>0</th>\n",
       "      <td>True</td>\n",
       "      <td>recombinant CD40-ligand . melanoma skin diagno...</td>\n",
       "    </tr>\n",
       "    <tr>\n",
       "      <th>1</th>\n",
       "      <td>True</td>\n",
       "      <td>Liposomal doxorubicin . colorectal cancer diag...</td>\n",
       "    </tr>\n",
       "    <tr>\n",
       "      <th>2</th>\n",
       "      <td>True</td>\n",
       "      <td>BI 836909 . multiple myeloma diagnosis and ind...</td>\n",
       "    </tr>\n",
       "    <tr>\n",
       "      <th>3</th>\n",
       "      <td>True</td>\n",
       "      <td>Immunoglobulins . recurrent fallopian tube car...</td>\n",
       "    </tr>\n",
       "    <tr>\n",
       "      <th>4</th>\n",
       "      <td>True</td>\n",
       "      <td>Paclitaxel . stage ovarian cancer diagnosis an...</td>\n",
       "    </tr>\n",
       "    <tr>\n",
       "      <th>...</th>\n",
       "      <td>...</td>\n",
       "      <td>...</td>\n",
       "    </tr>\n",
       "    <tr>\n",
       "      <th>999995</th>\n",
       "      <td>False</td>\n",
       "      <td>Pazopanib . carcinoma renal cell diagnosis and...</td>\n",
       "    </tr>\n",
       "    <tr>\n",
       "      <th>999996</th>\n",
       "      <td>False</td>\n",
       "      <td>Dexamethasone 21-phosphate . uveal melanoma di...</td>\n",
       "    </tr>\n",
       "    <tr>\n",
       "      <th>999997</th>\n",
       "      <td>False</td>\n",
       "      <td>Camptothecin . rectal cancer diagnosis and cre...</td>\n",
       "    </tr>\n",
       "    <tr>\n",
       "      <th>999998</th>\n",
       "      <td>False</td>\n",
       "      <td>Cyclophosphamide . stage iii non hodgkin lymph...</td>\n",
       "    </tr>\n",
       "    <tr>\n",
       "      <th>999999</th>\n",
       "      <td>False</td>\n",
       "      <td>Cyclophosphamide . lymphoma diagnosis and pati...</td>\n",
       "    </tr>\n",
       "  </tbody>\n",
       "</table>\n",
       "<p>1000000 rows × 2 columns</p>\n",
       "</div>"
      ],
      "text/plain": [
       "        is_eligible                                       intervention\n",
       "0              True  recombinant CD40-ligand . melanoma skin diagno...\n",
       "1              True  Liposomal doxorubicin . colorectal cancer diag...\n",
       "2              True  BI 836909 . multiple myeloma diagnosis and ind...\n",
       "3              True  Immunoglobulins . recurrent fallopian tube car...\n",
       "4              True  Paclitaxel . stage ovarian cancer diagnosis an...\n",
       "...             ...                                                ...\n",
       "999995        False  Pazopanib . carcinoma renal cell diagnosis and...\n",
       "999996        False  Dexamethasone 21-phosphate . uveal melanoma di...\n",
       "999997        False  Camptothecin . rectal cancer diagnosis and cre...\n",
       "999998        False  Cyclophosphamide . stage iii non hodgkin lymph...\n",
       "999999        False  Cyclophosphamide . lymphoma diagnosis and pati...\n",
       "\n",
       "[1000000 rows x 2 columns]"
      ]
     },
     "execution_count": 10,
     "metadata": {},
     "output_type": "execute_result"
    }
   ],
   "source": [
    "df"
   ]
  },
  {
   "cell_type": "code",
   "execution_count": 11,
   "metadata": {},
   "outputs": [
    {
     "data": {
      "text/html": [
       "<div>\n",
       "<style scoped>\n",
       "    .dataframe tbody tr th:only-of-type {\n",
       "        vertical-align: middle;\n",
       "    }\n",
       "\n",
       "    .dataframe tbody tr th {\n",
       "        vertical-align: top;\n",
       "    }\n",
       "\n",
       "    .dataframe thead th {\n",
       "        text-align: right;\n",
       "    }\n",
       "</style>\n",
       "<table border=\"1\" class=\"dataframe\">\n",
       "  <thead>\n",
       "    <tr style=\"text-align: right;\">\n",
       "      <th></th>\n",
       "      <th>intervention</th>\n",
       "      <th>condition</th>\n",
       "      <th>criteria</th>\n",
       "    </tr>\n",
       "  </thead>\n",
       "  <tbody>\n",
       "    <tr>\n",
       "      <th>0</th>\n",
       "      <td>recombinant CD40-ligand</td>\n",
       "      <td>melanoma skin</td>\n",
       "      <td>no active cns metastases by ct scan or mri</td>\n",
       "    </tr>\n",
       "    <tr>\n",
       "      <th>1</th>\n",
       "      <td>Liposomal doxorubicin</td>\n",
       "      <td>colorectal cancer</td>\n",
       "      <td>cardiovascular</td>\n",
       "    </tr>\n",
       "    <tr>\n",
       "      <th>2</th>\n",
       "      <td>BI 836909</td>\n",
       "      <td>multiple myeloma</td>\n",
       "      <td>indwelling central venous cateder or willingne...</td>\n",
       "    </tr>\n",
       "    <tr>\n",
       "      <th>3</th>\n",
       "      <td>Immunoglobulins</td>\n",
       "      <td>recurrent fallopian tube carcinoma</td>\n",
       "      <td>patients are allowed to receive but are not re...</td>\n",
       "    </tr>\n",
       "    <tr>\n",
       "      <th>4</th>\n",
       "      <td>Paclitaxel</td>\n",
       "      <td>stage ovarian cancer</td>\n",
       "      <td>patients must have recovered from the effects ...</td>\n",
       "    </tr>\n",
       "    <tr>\n",
       "      <th>...</th>\n",
       "      <td>...</td>\n",
       "      <td>...</td>\n",
       "      <td>...</td>\n",
       "    </tr>\n",
       "    <tr>\n",
       "      <th>999995</th>\n",
       "      <td>Pazopanib</td>\n",
       "      <td>carcinoma renal cell</td>\n",
       "      <td>pregnant or lactating female</td>\n",
       "    </tr>\n",
       "    <tr>\n",
       "      <th>999996</th>\n",
       "      <td>Dexamethasone 21-phosphate</td>\n",
       "      <td>uveal melanoma</td>\n",
       "      <td>presence of any ocular condition that in the o...</td>\n",
       "    </tr>\n",
       "    <tr>\n",
       "      <th>999997</th>\n",
       "      <td>Camptothecin</td>\n",
       "      <td>rectal cancer</td>\n",
       "      <td>creatinine clearance less_than fifty ml min</td>\n",
       "    </tr>\n",
       "    <tr>\n",
       "      <th>999998</th>\n",
       "      <td>Cyclophosphamide</td>\n",
       "      <td>stage iii non hodgkin lymphoma</td>\n",
       "      <td>concurrent administration of any other investi...</td>\n",
       "    </tr>\n",
       "    <tr>\n",
       "      <th>999999</th>\n",
       "      <td>Cyclophosphamide</td>\n",
       "      <td>lymphoma</td>\n",
       "      <td>patients with active hepatitis or infection no...</td>\n",
       "    </tr>\n",
       "  </tbody>\n",
       "</table>\n",
       "<p>1000000 rows × 3 columns</p>\n",
       "</div>"
      ],
      "text/plain": [
       "                      intervention                           condition  \\\n",
       "0          recombinant CD40-ligand                       melanoma skin   \n",
       "1            Liposomal doxorubicin                   colorectal cancer   \n",
       "2                        BI 836909                    multiple myeloma   \n",
       "3                  Immunoglobulins  recurrent fallopian tube carcinoma   \n",
       "4                       Paclitaxel                stage ovarian cancer   \n",
       "...                            ...                                 ...   \n",
       "999995                   Pazopanib                carcinoma renal cell   \n",
       "999996  Dexamethasone 21-phosphate                      uveal melanoma   \n",
       "999997                Camptothecin                       rectal cancer   \n",
       "999998            Cyclophosphamide      stage iii non hodgkin lymphoma   \n",
       "999999            Cyclophosphamide                            lymphoma   \n",
       "\n",
       "                                                 criteria  \n",
       "0              no active cns metastases by ct scan or mri  \n",
       "1                                          cardiovascular  \n",
       "2       indwelling central venous cateder or willingne...  \n",
       "3       patients are allowed to receive but are not re...  \n",
       "4       patients must have recovered from the effects ...  \n",
       "...                                                   ...  \n",
       "999995                       pregnant or lactating female  \n",
       "999996  presence of any ocular condition that in the o...  \n",
       "999997        creatinine clearance less_than fifty ml min  \n",
       "999998  concurrent administration of any other investi...  \n",
       "999999  patients with active hepatitis or infection no...  \n",
       "\n",
       "[1000000 rows x 3 columns]"
      ]
     },
     "execution_count": 11,
     "metadata": {},
     "output_type": "execute_result"
    }
   ],
   "source": [
    "itv = df.intervention.str.split('\\s\\.\\s|\\sdiagnosis\\sand\\s', n=2, expand=True)\n",
    "itv.columns = ['intervention', 'condition', 'criteria']\n",
    "itv"
   ]
  },
  {
   "cell_type": "code",
   "execution_count": 12,
   "metadata": {},
   "outputs": [],
   "source": [
    "df = pd.concat([df.iloc[:,0], itv], axis=1)"
   ]
  },
  {
   "cell_type": "code",
   "execution_count": 13,
   "metadata": {},
   "outputs": [
    {
     "data": {
      "text/html": [
       "<div>\n",
       "<style scoped>\n",
       "    .dataframe tbody tr th:only-of-type {\n",
       "        vertical-align: middle;\n",
       "    }\n",
       "\n",
       "    .dataframe tbody tr th {\n",
       "        vertical-align: top;\n",
       "    }\n",
       "\n",
       "    .dataframe thead th {\n",
       "        text-align: right;\n",
       "    }\n",
       "</style>\n",
       "<table border=\"1\" class=\"dataframe\">\n",
       "  <thead>\n",
       "    <tr style=\"text-align: right;\">\n",
       "      <th></th>\n",
       "      <th>is_eligible</th>\n",
       "      <th>intervention</th>\n",
       "      <th>condition</th>\n",
       "      <th>criteria</th>\n",
       "    </tr>\n",
       "  </thead>\n",
       "  <tbody>\n",
       "    <tr>\n",
       "      <th>count</th>\n",
       "      <td>1000000</td>\n",
       "      <td>1000000</td>\n",
       "      <td>1000000</td>\n",
       "      <td>927650</td>\n",
       "    </tr>\n",
       "    <tr>\n",
       "      <th>unique</th>\n",
       "      <td>2</td>\n",
       "      <td>15262</td>\n",
       "      <td>52832</td>\n",
       "      <td>232930</td>\n",
       "    </tr>\n",
       "    <tr>\n",
       "      <th>top</th>\n",
       "      <td>True</td>\n",
       "      <td>Antibodies, Monoclonal</td>\n",
       "      <td>breast cancer</td>\n",
       "      <td>donor</td>\n",
       "    </tr>\n",
       "    <tr>\n",
       "      <th>freq</th>\n",
       "      <td>500000</td>\n",
       "      <td>34457</td>\n",
       "      <td>33368</td>\n",
       "      <td>9426</td>\n",
       "    </tr>\n",
       "  </tbody>\n",
       "</table>\n",
       "</div>"
      ],
      "text/plain": [
       "       is_eligible            intervention      condition criteria\n",
       "count      1000000                 1000000        1000000   927650\n",
       "unique           2                   15262          52832   232930\n",
       "top           True  Antibodies, Monoclonal  breast cancer    donor\n",
       "freq        500000                   34457          33368     9426"
      ]
     },
     "execution_count": 13,
     "metadata": {},
     "output_type": "execute_result"
    }
   ],
   "source": [
    "df.describe()"
   ]
  },
  {
   "cell_type": "code",
   "execution_count": 14,
   "metadata": {},
   "outputs": [
    {
     "data": {
      "text/plain": [
       "Antibodies, Monoclonal                                                 34457\n",
       "Antibodies                                                             22897\n",
       "Paclitaxel                                                             22723\n",
       "Albumin-Bound Paclitaxel                                               21169\n",
       "Bevacizumab                                                            20445\n",
       "                                                                       ...  \n",
       "Direct Transthoracic Cardiac Tumor Radio Frequency Ablation Therapy        1\n",
       "Conventional Radiotherapy                                                  1\n",
       "Salvia sample                                                              1\n",
       "Bladder tumor biopsy                                                       1\n",
       "light microscopy                                                           1\n",
       "Name: intervention, Length: 15262, dtype: int64"
      ]
     },
     "execution_count": 14,
     "metadata": {},
     "output_type": "execute_result"
    }
   ],
   "source": [
    "df.intervention.value_counts()"
   ]
  },
  {
   "cell_type": "code",
   "execution_count": 15,
   "metadata": {},
   "outputs": [
    {
     "data": {
      "text/html": [
       "<div>\n",
       "<style scoped>\n",
       "    .dataframe tbody tr th:only-of-type {\n",
       "        vertical-align: middle;\n",
       "    }\n",
       "\n",
       "    .dataframe tbody tr th {\n",
       "        vertical-align: top;\n",
       "    }\n",
       "\n",
       "    .dataframe thead th {\n",
       "        text-align: right;\n",
       "    }\n",
       "</style>\n",
       "<table border=\"1\" class=\"dataframe\">\n",
       "  <thead>\n",
       "    <tr style=\"text-align: right;\">\n",
       "      <th></th>\n",
       "      <th>intervention</th>\n",
       "      <th>condition</th>\n",
       "      <th>criteria</th>\n",
       "    </tr>\n",
       "    <tr>\n",
       "      <th>is_eligible</th>\n",
       "      <th></th>\n",
       "      <th></th>\n",
       "      <th></th>\n",
       "    </tr>\n",
       "  </thead>\n",
       "  <tbody>\n",
       "    <tr>\n",
       "      <th>False</th>\n",
       "      <td>18321</td>\n",
       "      <td>18321</td>\n",
       "      <td>17167</td>\n",
       "    </tr>\n",
       "    <tr>\n",
       "      <th>True</th>\n",
       "      <td>16136</td>\n",
       "      <td>16136</td>\n",
       "      <td>15369</td>\n",
       "    </tr>\n",
       "  </tbody>\n",
       "</table>\n",
       "</div>"
      ],
      "text/plain": [
       "             intervention  condition  criteria\n",
       "is_eligible                                   \n",
       "False               18321      18321     17167\n",
       "True                16136      16136     15369"
      ]
     },
     "execution_count": 15,
     "metadata": {},
     "output_type": "execute_result"
    }
   ],
   "source": [
    "df[df.intervention.str.startswith('Antibodies, Monoclonal')].groupby('is_eligible').count()"
   ]
  },
  {
   "cell_type": "code",
   "execution_count": 16,
   "metadata": {},
   "outputs": [
    {
     "data": {
      "text/plain": [
       "Index(['light microscopy', 'Bladder tumor biopsy', 'Salvia sample',\n",
       "       'Conventional Radiotherapy',\n",
       "       'Direct Transthoracic Cardiac Tumor Radio Frequency Ablation Therapy',\n",
       "       'stretching/toning', 'mMammogram', 'Electro-Acupuncture',\n",
       "       'Gastric surgery', 'Protein and creatine',\n",
       "       'Warm Water Immersion Colonoscopy', 'body-mind-spirit group therapy',\n",
       "       'Intervention Arm', 'Mindfulness based stress reduction (MBSR)',\n",
       "       'Receptors, Antigen, B-Cell', 'NK Immunotherapy', 'PET/CT (low-dose)',\n",
       "       'Reduced port-flush schedule', 'Baseline Strength Test'],\n",
       "      dtype='object')"
      ]
     },
     "execution_count": 16,
     "metadata": {},
     "output_type": "execute_result"
    }
   ],
   "source": [
    "df['intervention'].value_counts().index[-1:-20:-1]"
   ]
  },
  {
   "cell_type": "code",
   "execution_count": 17,
   "metadata": {},
   "outputs": [
    {
     "data": {
      "text/plain": [
       "Index(['Antibodies, Monoclonal', 'Antibodies', 'Paclitaxel',\n",
       "       'Albumin-Bound Paclitaxel', 'Bevacizumab', 'Cyclophosphamide',\n",
       "       'Immunoglobulins', 'Carboplatin', 'Cisplatin', 'Fludarabine',\n",
       "       'Fludarabine phosphate', 'Gemcitabine', 'Sirolimus', 'Doxorubicin',\n",
       "       'Everolimus', 'Liposomal doxorubicin', 'Docetaxel', 'Vaccines',\n",
       "       'Mycophenolate mofetil', 'Rituximab', 'Mycophenolic Acid',\n",
       "       'Fluorouracil', 'Vidarabine', 'Oxaliplatin', 'Capecitabine',\n",
       "       'Irinotecan', 'Etoposide', 'Thalidomide', 'Erlotinib Hydrochloride',\n",
       "       'Cyclosporins', 'Cetuximab', 'Cyclosporine', 'Etoposide phosphate',\n",
       "       'Camptothecin', 'Pembrolizumab', 'Bortezomib', 'Tacrolimus',\n",
       "       'Dexamethasone', 'Sorafenib', 'Melphalan', 'Lenalidomide',\n",
       "       'Niacinamide', 'laboratory biomarker analysis', 'Temozolomide',\n",
       "       'Dexamethasone 21-phosphate', 'BB 1101', 'Dexamethasone acetate',\n",
       "       'Endothelial Growth Factors', 'Trastuzumab',\n",
       "       'Laboratory Biomarker Analysis'],\n",
       "      dtype='object')"
      ]
     },
     "execution_count": 17,
     "metadata": {},
     "output_type": "execute_result"
    }
   ],
   "source": [
    "df['intervention'].value_counts().index[:50]"
   ]
  },
  {
   "cell_type": "code",
   "execution_count": 18,
   "metadata": {},
   "outputs": [
    {
     "data": {
      "text/plain": [
       "'study of high risk factors'"
      ]
     },
     "execution_count": 18,
     "metadata": {},
     "output_type": "execute_result"
    }
   ],
   "source": [
    "df.loc[10, 'intervention']"
   ]
  },
  {
   "cell_type": "code",
   "execution_count": 19,
   "metadata": {},
   "outputs": [
    {
     "data": {
      "text/plain": [
       "'able to understand the procedures and the potential risks involved as determined by clinic staff'"
      ]
     },
     "execution_count": 19,
     "metadata": {},
     "output_type": "execute_result"
    }
   ],
   "source": [
    "df.loc[10, 'criteria']"
   ]
  },
  {
   "cell_type": "code",
   "execution_count": 20,
   "metadata": {},
   "outputs": [
    {
     "data": {
      "text/html": [
       "<div>\n",
       "<style scoped>\n",
       "    .dataframe tbody tr th:only-of-type {\n",
       "        vertical-align: middle;\n",
       "    }\n",
       "\n",
       "    .dataframe tbody tr th {\n",
       "        vertical-align: top;\n",
       "    }\n",
       "\n",
       "    .dataframe thead th {\n",
       "        text-align: right;\n",
       "    }\n",
       "</style>\n",
       "<table border=\"1\" class=\"dataframe\">\n",
       "  <thead>\n",
       "    <tr style=\"text-align: right;\">\n",
       "      <th></th>\n",
       "      <th>is_eligible</th>\n",
       "      <th>intervention</th>\n",
       "      <th>condition</th>\n",
       "      <th>criteria</th>\n",
       "    </tr>\n",
       "  </thead>\n",
       "  <tbody>\n",
       "    <tr>\n",
       "      <th>10</th>\n",
       "      <td>True</td>\n",
       "      <td>study of high risk factors</td>\n",
       "      <td>precancerous condition</td>\n",
       "      <td>able to understand the procedures and the pote...</td>\n",
       "    </tr>\n",
       "    <tr>\n",
       "      <th>18605</th>\n",
       "      <td>True</td>\n",
       "      <td>study of high risk factors</td>\n",
       "      <td>melanoma skin</td>\n",
       "      <td>not specified</td>\n",
       "    </tr>\n",
       "    <tr>\n",
       "      <th>43726</th>\n",
       "      <td>True</td>\n",
       "      <td>study of high risk factors</td>\n",
       "      <td>unspecified adult solid tumor protocol specific</td>\n",
       "      <td>nci zero zero69</td>\n",
       "    </tr>\n",
       "    <tr>\n",
       "      <th>47365</th>\n",
       "      <td>True</td>\n",
       "      <td>study of high risk factors</td>\n",
       "      <td>precancerous condition</td>\n",
       "      <td>patient characteristics</td>\n",
       "    </tr>\n",
       "    <tr>\n",
       "      <th>66759</th>\n",
       "      <td>True</td>\n",
       "      <td>study of high risk factors</td>\n",
       "      <td>increased risk of breast cancer as determined ...</td>\n",
       "      <td>None</td>\n",
       "    </tr>\n",
       "    <tr>\n",
       "      <th>...</th>\n",
       "      <td>...</td>\n",
       "      <td>...</td>\n",
       "      <td>...</td>\n",
       "      <td>...</td>\n",
       "    </tr>\n",
       "    <tr>\n",
       "      <th>765935</th>\n",
       "      <td>False</td>\n",
       "      <td>study of high risk factors</td>\n",
       "      <td>lung cancer</td>\n",
       "      <td>cardiac surgery</td>\n",
       "    </tr>\n",
       "    <tr>\n",
       "      <th>794786</th>\n",
       "      <td>False</td>\n",
       "      <td>study of high risk factors</td>\n",
       "      <td>lung cancer</td>\n",
       "      <td>deep ray therapy</td>\n",
       "    </tr>\n",
       "    <tr>\n",
       "      <th>872408</th>\n",
       "      <td>False</td>\n",
       "      <td>study of high risk factors</td>\n",
       "      <td>metastatic cancer</td>\n",
       "      <td>diffuse pleural fibrosis</td>\n",
       "    </tr>\n",
       "    <tr>\n",
       "      <th>937083</th>\n",
       "      <td>False</td>\n",
       "      <td>study of high risk factors</td>\n",
       "      <td>concurrent untreated malignancy except nonmela...</td>\n",
       "      <td>None</td>\n",
       "    </tr>\n",
       "    <tr>\n",
       "      <th>993693</th>\n",
       "      <td>False</td>\n",
       "      <td>study of high risk factors</td>\n",
       "      <td>active invasive malignancy in any site except ...</td>\n",
       "      <td>None</td>\n",
       "    </tr>\n",
       "  </tbody>\n",
       "</table>\n",
       "<p>92 rows × 4 columns</p>\n",
       "</div>"
      ],
      "text/plain": [
       "        is_eligible                intervention  \\\n",
       "10             True  study of high risk factors   \n",
       "18605          True  study of high risk factors   \n",
       "43726          True  study of high risk factors   \n",
       "47365          True  study of high risk factors   \n",
       "66759          True  study of high risk factors   \n",
       "...             ...                         ...   \n",
       "765935        False  study of high risk factors   \n",
       "794786        False  study of high risk factors   \n",
       "872408        False  study of high risk factors   \n",
       "937083        False  study of high risk factors   \n",
       "993693        False  study of high risk factors   \n",
       "\n",
       "                                                condition  \\\n",
       "10                                 precancerous condition   \n",
       "18605                                       melanoma skin   \n",
       "43726     unspecified adult solid tumor protocol specific   \n",
       "47365                              precancerous condition   \n",
       "66759   increased risk of breast cancer as determined ...   \n",
       "...                                                   ...   \n",
       "765935                                        lung cancer   \n",
       "794786                                        lung cancer   \n",
       "872408                                  metastatic cancer   \n",
       "937083  concurrent untreated malignancy except nonmela...   \n",
       "993693  active invasive malignancy in any site except ...   \n",
       "\n",
       "                                                 criteria  \n",
       "10      able to understand the procedures and the pote...  \n",
       "18605                                       not specified  \n",
       "43726                                     nci zero zero69  \n",
       "47365                             patient characteristics  \n",
       "66759                                                None  \n",
       "...                                                   ...  \n",
       "765935                                    cardiac surgery  \n",
       "794786                                   deep ray therapy  \n",
       "872408                           diffuse pleural fibrosis  \n",
       "937083                                               None  \n",
       "993693                                               None  \n",
       "\n",
       "[92 rows x 4 columns]"
      ]
     },
     "execution_count": 20,
     "metadata": {},
     "output_type": "execute_result"
    }
   ],
   "source": [
    "df[df.intervention.str.contains('high risk')]"
   ]
  },
  {
   "cell_type": "code",
   "execution_count": 21,
   "metadata": {},
   "outputs": [
    {
     "data": {
      "text/html": [
       "<div>\n",
       "<style scoped>\n",
       "    .dataframe tbody tr th:only-of-type {\n",
       "        vertical-align: middle;\n",
       "    }\n",
       "\n",
       "    .dataframe tbody tr th {\n",
       "        vertical-align: top;\n",
       "    }\n",
       "\n",
       "    .dataframe thead th {\n",
       "        text-align: right;\n",
       "    }\n",
       "</style>\n",
       "<table border=\"1\" class=\"dataframe\">\n",
       "  <thead>\n",
       "    <tr style=\"text-align: right;\">\n",
       "      <th></th>\n",
       "      <th>is_eligible</th>\n",
       "      <th>intervention</th>\n",
       "      <th>condition</th>\n",
       "      <th>criteria</th>\n",
       "    </tr>\n",
       "  </thead>\n",
       "  <tbody>\n",
       "    <tr>\n",
       "      <th>93</th>\n",
       "      <td>True</td>\n",
       "      <td>Mycophenolic Acid</td>\n",
       "      <td>stage ii contiguous adult diffuse large cell l...</td>\n",
       "      <td>donor</td>\n",
       "    </tr>\n",
       "    <tr>\n",
       "      <th>103</th>\n",
       "      <td>True</td>\n",
       "      <td>Methylprednisolone Hemisuccinate</td>\n",
       "      <td>splenic marginal zone lymphoma</td>\n",
       "      <td>donor</td>\n",
       "    </tr>\n",
       "    <tr>\n",
       "      <th>136</th>\n",
       "      <td>True</td>\n",
       "      <td>Cyclosporins</td>\n",
       "      <td>recurrent adult immunoblastic large cell lymphoma</td>\n",
       "      <td>donor</td>\n",
       "    </tr>\n",
       "    <tr>\n",
       "      <th>140</th>\n",
       "      <td>True</td>\n",
       "      <td>Cyclophosphamide</td>\n",
       "      <td>recurrent childhood hodgkin lymphoma</td>\n",
       "      <td>donor</td>\n",
       "    </tr>\n",
       "    <tr>\n",
       "      <th>192</th>\n",
       "      <td>True</td>\n",
       "      <td>Tacrolimus</td>\n",
       "      <td>recurrent cutaneous cell non hodgkin lymphoma</td>\n",
       "      <td>donor</td>\n",
       "    </tr>\n",
       "    <tr>\n",
       "      <th>...</th>\n",
       "      <td>...</td>\n",
       "      <td>...</td>\n",
       "      <td>...</td>\n",
       "      <td>...</td>\n",
       "    </tr>\n",
       "    <tr>\n",
       "      <th>999663</th>\n",
       "      <td>False</td>\n",
       "      <td>Cyclosporine</td>\n",
       "      <td>recurrent adult grade iii lymphomatoid granulo...</td>\n",
       "      <td>donor</td>\n",
       "    </tr>\n",
       "    <tr>\n",
       "      <th>999701</th>\n",
       "      <td>False</td>\n",
       "      <td>Everolimus</td>\n",
       "      <td>lymphoma</td>\n",
       "      <td>donor</td>\n",
       "    </tr>\n",
       "    <tr>\n",
       "      <th>999764</th>\n",
       "      <td>False</td>\n",
       "      <td>Cyclosporins</td>\n",
       "      <td>contiguous stage ii adult diffuse small cleave...</td>\n",
       "      <td>donor</td>\n",
       "    </tr>\n",
       "    <tr>\n",
       "      <th>999767</th>\n",
       "      <td>False</td>\n",
       "      <td>Vidarabine</td>\n",
       "      <td>splenic marginal zone lymphoma</td>\n",
       "      <td>donor</td>\n",
       "    </tr>\n",
       "    <tr>\n",
       "      <th>999985</th>\n",
       "      <td>False</td>\n",
       "      <td>Mycophenolate mofetil</td>\n",
       "      <td>recurrent adult grade iii lymphomatoid granulo...</td>\n",
       "      <td>donor</td>\n",
       "    </tr>\n",
       "  </tbody>\n",
       "</table>\n",
       "<p>9426 rows × 4 columns</p>\n",
       "</div>"
      ],
      "text/plain": [
       "        is_eligible                      intervention  \\\n",
       "93             True                 Mycophenolic Acid   \n",
       "103            True  Methylprednisolone Hemisuccinate   \n",
       "136            True                      Cyclosporins   \n",
       "140            True                  Cyclophosphamide   \n",
       "192            True                        Tacrolimus   \n",
       "...             ...                               ...   \n",
       "999663        False                      Cyclosporine   \n",
       "999701        False                        Everolimus   \n",
       "999764        False                      Cyclosporins   \n",
       "999767        False                        Vidarabine   \n",
       "999985        False             Mycophenolate mofetil   \n",
       "\n",
       "                                                condition criteria  \n",
       "93      stage ii contiguous adult diffuse large cell l...    donor  \n",
       "103                        splenic marginal zone lymphoma    donor  \n",
       "136     recurrent adult immunoblastic large cell lymphoma    donor  \n",
       "140                  recurrent childhood hodgkin lymphoma    donor  \n",
       "192         recurrent cutaneous cell non hodgkin lymphoma    donor  \n",
       "...                                                   ...      ...  \n",
       "999663  recurrent adult grade iii lymphomatoid granulo...    donor  \n",
       "999701                                           lymphoma    donor  \n",
       "999764  contiguous stage ii adult diffuse small cleave...    donor  \n",
       "999767                     splenic marginal zone lymphoma    donor  \n",
       "999985  recurrent adult grade iii lymphomatoid granulo...    donor  \n",
       "\n",
       "[9426 rows x 4 columns]"
      ]
     },
     "execution_count": 21,
     "metadata": {},
     "output_type": "execute_result"
    }
   ],
   "source": [
    "df[df.criteria=='donor']"
   ]
  },
  {
   "cell_type": "markdown",
   "metadata": {},
   "source": [
    "`doner` as a inclusion or exclusion criteria for cancer trial does not make sense. We will probably drop these from the data set."
   ]
  },
  {
   "cell_type": "code",
   "execution_count": 22,
   "metadata": {},
   "outputs": [
    {
     "data": {
      "text/plain": [
       "'recurrent adult grade iii lymphomatoid granulomatosis'"
      ]
     },
     "execution_count": 22,
     "metadata": {},
     "output_type": "execute_result"
    }
   ],
   "source": [
    "df.loc[999663]['condition']"
   ]
  },
  {
   "cell_type": "code",
   "execution_count": 23,
   "metadata": {},
   "outputs": [
    {
     "data": {
      "text/plain": [
       "donor                                                                                                                                                                                                                        199\n",
       "adult                                                                                                                                                                                                                         39\n",
       "fertile men or women unwilling to use contraceptive techniques during and for twelve months following treatment                                                                                                               23\n",
       "pregnancy                                                                                                                                                                                                                     22\n",
       "donors                                                                                                                                                                                                                        20\n",
       "                                                                                                                                                                                                                            ... \n",
       "no history of allergic reactions attributed to compounds of similar chemical or biologic composition to gamma_secretase inhibitor rofour million, nine hundred and twenty-nine thousand and ninety-seven or dexamethasone      1\n",
       "patients with related or unrelated donors for whom                                                                                                                                                                             1\n",
       "history of allergic reactions attributed to compounds of similar chemical or biologic composition to rofour million, nine hundred and twenty-nine thousand and ninety-seven or capecitabine                                    1\n",
       "world health organization who classification of patients malignancies must be provided                                                                                                                                         1\n",
       "aspartate aminotransferase ast serum glutamic oxaloacetic transaminase sgot alanine aminotransferase alt serum glutamic pyruvic transaminase sgpt equal_than less_than doc institutional upper limit of normal uln             1\n",
       "Name: criteria, Length: 1544, dtype: int64"
      ]
     },
     "execution_count": 23,
     "metadata": {},
     "output_type": "execute_result"
    }
   ],
   "source": [
    "df.loc[df.condition.str.endswith('lymphomatoid granulomatosis')].criteria.value_counts()"
   ]
  },
  {
   "cell_type": "code",
   "execution_count": 24,
   "metadata": {},
   "outputs": [
    {
     "data": {
      "text/plain": [
       "recurrent small lymphocytic lymphoma                 223\n",
       "recurrent mantle cell lymphoma                       184\n",
       "recurrent adult hodgkin lymphoma                     161\n",
       "recurrent marginal zone lymphoma                     134\n",
       "recurrent adult immunoblastic large cell lymphoma    130\n",
       "                                                    ... \n",
       "lymphoma non hodgkin                                   1\n",
       "lymphoma cell                                          1\n",
       "blastoid_variant mantle cell lymphoma                  1\n",
       "myeloma                                                1\n",
       "hepatocellular carcinoma                               1\n",
       "Name: condition, Length: 255, dtype: int64"
      ]
     },
     "execution_count": 24,
     "metadata": {},
     "output_type": "execute_result"
    }
   ],
   "source": [
    "df.loc[df.criteria=='donor'].condition.value_counts()"
   ]
  },
  {
   "cell_type": "code",
   "execution_count": 25,
   "metadata": {},
   "outputs": [
    {
     "data": {
      "text/plain": [
       "Fludarabine phosphate            1189\n",
       "Fludarabine                      1169\n",
       "Mycophenolic Acid                1161\n",
       "Mycophenolate mofetil            1129\n",
       "Vidarabine                        788\n",
       "                                 ... \n",
       "Glycine                             1\n",
       "Cadexomer iodine                    1\n",
       "Leukapheresis                       1\n",
       "Mesna                               1\n",
       "Laboratory Biomarker Analysis       1\n",
       "Name: intervention, Length: 62, dtype: int64"
      ]
     },
     "execution_count": 25,
     "metadata": {},
     "output_type": "execute_result"
    }
   ],
   "source": [
    "df.loc[df.criteria=='donor'].intervention.value_counts()"
   ]
  }
 ],
 "metadata": {
  "kernelspec": {
   "display_name": "Python 3",
   "language": "python",
   "name": "python3"
  },
  "language_info": {
   "codemirror_mode": {
    "name": "ipython",
    "version": 3
   },
   "file_extension": ".py",
   "mimetype": "text/x-python",
   "name": "python",
   "nbconvert_exporter": "python",
   "pygments_lexer": "ipython3",
   "version": "3.8.5"
  }
 },
 "nbformat": 4,
 "nbformat_minor": 4
}
